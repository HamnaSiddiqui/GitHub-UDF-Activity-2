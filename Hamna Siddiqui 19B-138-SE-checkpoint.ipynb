{
 "cells": [
  {
   "cell_type": "markdown",
   "metadata": {},
   "source": [
    "# Python UDF Activity 2"
   ]
  },
  {
   "cell_type": "markdown",
   "metadata": {},
   "source": [
    "# Question:01"
   ]
  },
  {
   "cell_type": "code",
   "execution_count": 2,
   "metadata": {},
   "outputs": [
    {
     "name": "stdout",
     "output_type": "stream",
     "text": [
      "2.25\n"
     ]
    }
   ],
   "source": [
    "def area(base,height):\n",
    "    a=1/2*base*height\n",
    "    print(a)\n",
    "area(3,1.5)"
   ]
  },
  {
   "cell_type": "markdown",
   "metadata": {},
   "source": [
    "# Question:02"
   ]
  },
  {
   "cell_type": "code",
   "execution_count": 3,
   "metadata": {},
   "outputs": [
    {
     "name": "stdout",
     "output_type": "stream",
     "text": [
      "Hamdan\n"
     ]
    }
   ],
   "source": [
    "dic={'Abbu':'Mosouf','Ammi':'Sajida','Brother1':'Hamdan','Brother2':'Hadi','Sister':'Hafsa'}\n",
    "def findrelation():\n",
    "    if (findrelation):\n",
    "        print(dic['Brother1'])\n",
    "    else:\n",
    "        print('Sorry the relation does not exist in the family')\n",
    "findrelation()"
   ]
  },
  {
   "cell_type": "markdown",
   "metadata": {},
   "source": [
    "# Question:03"
   ]
  },
  {
   "cell_type": "code",
   "execution_count": 4,
   "metadata": {},
   "outputs": [
    {
     "name": "stdout",
     "output_type": "stream",
     "text": [
      "5.625\n"
     ]
    }
   ],
   "source": [
    "def area(base,height):\n",
    "    a=1/2*base*height\n",
    "    print(a)\n",
    "area(5,2.25)"
   ]
  },
  {
   "cell_type": "markdown",
   "metadata": {},
   "source": [
    "# Question:04"
   ]
  },
  {
   "cell_type": "code",
   "execution_count": 18,
   "metadata": {},
   "outputs": [
    {
     "name": "stdout",
     "output_type": "stream",
     "text": [
      "Even numbers in the list:  10\n",
      "Sorry\n",
      "Even numbers in the list:  4\n",
      "Sorry\n",
      "Even numbers in the list:  66\n",
      "Sorry\n",
      "Sorry\n"
     ]
    }
   ],
   "source": [
    "list1 = [10, 21, 4, 45, 66, 93, 1] \n",
    "for num in list1: \n",
    "    if (num % 2==0): \n",
    "        print(\"Even numbers in the list: \",num) \n",
    "    else:  \n",
    "        print(\"Sorry\")"
   ]
  },
  {
   "cell_type": "markdown",
   "metadata": {},
   "source": [
    "# Question:05"
   ]
  },
  {
   "cell_type": "code",
   "execution_count": 20,
   "metadata": {},
   "outputs": [
    {
     "name": "stdout",
     "output_type": "stream",
     "text": [
      "[1, 2, 3, 5, 7, 8, 9]\n"
     ]
    }
   ],
   "source": [
    "lst=[3,9,8,2,1,7,5]\n",
    "def sort(num):\n",
    "    return(num)\n",
    "lst.sort(key=sort)\n",
    "print(lst)"
   ]
  },
  {
   "cell_type": "markdown",
   "metadata": {},
   "source": [
    "# Question:06"
   ]
  },
  {
   "cell_type": "code",
   "execution_count": 25,
   "metadata": {},
   "outputs": [
    {
     "name": "stdout",
     "output_type": "stream",
     "text": [
      "Area is %.6f = 78.55\n"
     ]
    }
   ],
   "source": [
    "from math import pi\n",
    "def findarea(r):\n",
    "    pi=3.142\n",
    "    return pi*(r*r)\n",
    "print('Area is %.6f =',findarea(5))"
   ]
  },
  {
   "cell_type": "code",
   "execution_count": 43,
   "metadata": {},
   "outputs": [
    {
     "name": "stdout",
     "output_type": "stream",
     "text": [
      "Perimeter of circle =  56.556\n"
     ]
    }
   ],
   "source": [
    "def findp(r):\n",
    "    pi=3.142\n",
    "    c=2*pi*r\n",
    "    print('Perimeter of circle = ',c)\n",
    "findp(9)"
   ]
  },
  {
   "cell_type": "markdown",
   "metadata": {},
   "source": [
    "# Question:07"
   ]
  },
  {
   "cell_type": "code",
   "execution_count": 29,
   "metadata": {},
   "outputs": [
    {
     "name": "stdout",
     "output_type": "stream",
     "text": [
      "5\n",
      "['e', 'u', 'a', 'i', 'o']\n"
     ]
    }
   ],
   "source": [
    "def check_vow(string,vowels):\n",
    "    string=[each for each in string if each in vowels]\n",
    "    print(len(string))\n",
    "    print(string)\n",
    "string1='education'\n",
    "vowels='AEIOUaeiou'\n",
    "check_vow(string1,vowels)"
   ]
  },
  {
   "cell_type": "markdown",
   "metadata": {},
   "source": [
    "# Question:08"
   ]
  },
  {
   "cell_type": "code",
   "execution_count": 82,
   "metadata": {},
   "outputs": [
    {
     "name": "stdout",
     "output_type": "stream",
     "text": [
      "Area of rectangle =  18\n"
     ]
    }
   ],
   "source": [
    "from math import pi\n",
    "def findarea(length,breadth):\n",
    "    a=length*breadth\n",
    "    print('Area of rectangle = ',a)\n",
    "findarea(3,6)"
   ]
  },
  {
   "cell_type": "code",
   "execution_count": 78,
   "metadata": {},
   "outputs": [
    {
     "name": "stdout",
     "output_type": "stream",
     "text": [
      "perimeter of rectangle =  30\n"
     ]
    }
   ],
   "source": [
    "def peri(length,breadth):\n",
    "    p=(2*(length+breadth))\n",
    "    print('perimeter of rectangle = ',p)\n",
    "findp(9,6)"
   ]
  },
  {
   "cell_type": "markdown",
   "metadata": {},
   "source": [
    "# Question:09"
   ]
  },
  {
   "cell_type": "code",
   "execution_count": 70,
   "metadata": {},
   "outputs": [
    {
     "name": "stdout",
     "output_type": "stream",
     "text": [
      "Even list : [78, 56, 90, 58]\n",
      "Odd list : [3, 51, 87, 67, 99]\n"
     ]
    }
   ],
   "source": [
    "def split(mix):\n",
    "    ev_lis=[]\n",
    "    od_lis=[]\n",
    "    for i in mix:\n",
    "        if (i%2==0):\n",
    "            ev_lis.append(i)\n",
    "        else:\n",
    "            od_lis.append(i)\n",
    "    print('Even list :',ev_lis)\n",
    "    print('Odd list :',od_lis)\n",
    "mix=[3,78,51,56,90,58,87,67,99]\n",
    "split(mix)"
   ]
  },
  {
   "cell_type": "markdown",
   "metadata": {},
   "source": [
    "# Question:10"
   ]
  },
  {
   "cell_type": "code",
   "execution_count": 54,
   "metadata": {},
   "outputs": [
    {
     "data": {
      "text/plain": [
       "'education'"
      ]
     },
     "execution_count": 54,
     "metadata": {},
     "output_type": "execute_result"
    }
   ],
   "source": [
    "alphabets='abcdefghijklmnopqrstuvwxyz'\n",
    "string='education'\n",
    "def missing_letter_basic(string):\n",
    "        if string not in alphabets:\n",
    "            return string\n",
    "        else:\n",
    "            print('no missing letter')\n",
    "missing_letter_basic('education')\n"
   ]
  },
  {
   "cell_type": "markdown",
   "metadata": {},
   "source": [
    "# Question:11"
   ]
  },
  {
   "cell_type": "code",
   "execution_count": 79,
   "metadata": {},
   "outputs": [
    {
     "name": "stdout",
     "output_type": "stream",
     "text": [
      "verb saving\n"
     ]
    }
   ],
   "source": [
    "def verb(s):\n",
    "    if s[-1]=='e':\n",
    "        s=s.replace(s[-1],\"\")\n",
    "        print('verb',s+'ing')\n",
    "    else:\n",
    "        print('verb',s+'ing')\n",
    "verb('save')"
   ]
  },
  {
   "cell_type": "markdown",
   "metadata": {},
   "source": [
    "# Question:12"
   ]
  },
  {
   "cell_type": "code",
   "execution_count": 61,
   "metadata": {},
   "outputs": [
    {
     "name": "stdout",
     "output_type": "stream",
     "text": [
      "Area of circle =  28.278\n",
      "Area of circle =  78.55\n",
      "The area is =  50.0\n"
     ]
    }
   ],
   "source": [
    "from math import pi\n",
    "def area(r):\n",
    "    pi=3.142\n",
    "    a=pi*(r**2)\n",
    "    print('Area of circle = ',a)\n",
    "def area1(r1):\n",
    "    pi=3.142\n",
    "    a=pi*(r1**2)\n",
    "    print('Area of circle = ',a)\n",
    "area(3)\n",
    "area1(5)\n",
    "b=78.55-28.55\n",
    "print('The area is = ',b)"
   ]
  },
  {
   "cell_type": "markdown",
   "metadata": {},
   "source": [
    "# Question:13"
   ]
  },
  {
   "cell_type": "code",
   "execution_count": 60,
   "metadata": {},
   "outputs": [
    {
     "name": "stdout",
     "output_type": "stream",
     "text": [
      "Original String :  ProgramminG FundaMentalS\n",
      "No. of Upper case characters :  5\n",
      "No. of Lower case Characters :  18\n"
     ]
    }
   ],
   "source": [
    "def string(s):\n",
    "    a={\"UPPER_CASE\":0, \"LOWER_CASE\":0}\n",
    "    for b in s:\n",
    "        if b.isupper():\n",
    "            a[\"UPPER_CASE\"]+=1\n",
    "        elif b.islower():\n",
    "            a[\"LOWER_CASE\"]+=1\n",
    "        else:\n",
    "            pass\n",
    "    print (\"Original String : \", s)\n",
    "    print (\"No. of Upper case characters : \", a[\"UPPER_CASE\"])\n",
    "    print (\"No. of Lower case Characters : \", a[\"LOWER_CASE\"])\n",
    "\n",
    "string('ProgramminG FundaMentalS')"
   ]
  },
  {
   "cell_type": "markdown",
   "metadata": {},
   "source": [
    "# Question:14"
   ]
  },
  {
   "cell_type": "code",
   "execution_count": 67,
   "metadata": {},
   "outputs": [
    {
     "name": "stdout",
     "output_type": "stream",
     "text": [
      "Area of the rectangle =  32\n",
      "Area of the rectangle1 =  88\n",
      "Area left behind =  56\n"
     ]
    }
   ],
   "source": [
    "def area(length,breadth):\n",
    "    a=breadth*length\n",
    "    print('Area of the rectangle = ',a)\n",
    "area(4,8)\n",
    "def area1(length,breadth):\n",
    "    a=breadth*length\n",
    "    print('Area of the rectangle1 = ',a)\n",
    "area1(8,11)\n",
    "c=88-32\n",
    "print('Area left behind = ',c)"
   ]
  },
  {
   "cell_type": "markdown",
   "metadata": {},
   "source": [
    "# Question:15"
   ]
  },
  {
   "cell_type": "code",
   "execution_count": 81,
   "metadata": {},
   "outputs": [
    {
     "name": "stdout",
     "output_type": "stream",
     "text": [
      "363/140\n"
     ]
    }
   ],
   "source": [
    "from fractions import Fraction\n",
    "i=1\n",
    "f=8\n",
    "ff=0\n",
    "for ii in range(i,f):\n",
    "    ff=ff+Fraction(1,ii)\n",
    "print(ff)"
   ]
  },
  {
   "cell_type": "markdown",
   "metadata": {},
   "source": [
    "# Question:16"
   ]
  },
  {
   "cell_type": "code",
   "execution_count": 107,
   "metadata": {},
   "outputs": [
    {
     "name": "stdout",
     "output_type": "stream",
     "text": [
      "Area of a rectangle is =  20.0 -95.0\n",
      "Area of a rectangle is =  504.0 -95.0\n",
      "Area left behind =  -484.0\n"
     ]
    }
   ],
   "source": [
    "def area(height,base,increment):\n",
    "    a=(height*base)/2\n",
    "    incr=5-100\n",
    "    Percent_Increase = ((incr/100)*100)\n",
    "    print('Area of a rectangle is = ',a,Percent_Increase)\n",
    "area(5,8,5)\n",
    "def area(height,base,increment):\n",
    "    a=(height*base)/2\n",
    "    incr=5-100\n",
    "    percent_Increase = ((incr/100)*100)\n",
    "    print('Area of a rectangle is = ',a,percent_Increase)\n",
    "area(18,56,5)\n",
    "c=(20.0-504.0)\n",
    "print('Area left behind = ',c)"
   ]
  },
  {
   "cell_type": "markdown",
   "metadata": {},
   "source": [
    "# Question:17"
   ]
  },
  {
   "cell_type": "code",
   "execution_count": 83,
   "metadata": {},
   "outputs": [
    {
     "name": "stdout",
     "output_type": "stream",
     "text": [
      "rep 0\n"
     ]
    }
   ],
   "source": [
    "s='apple'\n",
    "s=\"\"\n",
    "nn=0\n",
    "for i in s:\n",
    "    n=s.count(i)\n",
    "    if n>1:\n",
    "        nn=nn+1\n",
    "print('rep',nn)"
   ]
  },
  {
   "cell_type": "markdown",
   "metadata": {},
   "source": [
    "# Question:18"
   ]
  },
  {
   "cell_type": "code",
   "execution_count": 85,
   "metadata": {},
   "outputs": [
    {
     "name": "stdout",
     "output_type": "stream",
     "text": [
      "1\n",
      "50.272\n"
     ]
    },
    {
     "data": {
      "text/plain": [
       "49.272"
      ]
     },
     "execution_count": 85,
     "metadata": {},
     "output_type": "execute_result"
    }
   ],
   "source": [
    "def s(l,r):\n",
    "    a=1*1\n",
    "    b=3.142*(r**2)\n",
    "    print(a)\n",
    "    print(b)\n",
    "    if a>b:\n",
    "        c=(a-b)\n",
    "    else:\n",
    "        c=(b-a)\n",
    "    return (c)\n",
    "s(4,4)"
   ]
  },
  {
   "cell_type": "code",
   "execution_count": null,
   "metadata": {},
   "outputs": [],
   "source": []
  }
 ],
 "metadata": {
  "kernelspec": {
   "display_name": "Python 3",
   "language": "python",
   "name": "python3"
  },
  "language_info": {
   "codemirror_mode": {
    "name": "ipython",
    "version": 3
   },
   "file_extension": ".py",
   "mimetype": "text/x-python",
   "name": "python",
   "nbconvert_exporter": "python",
   "pygments_lexer": "ipython3",
   "version": "3.7.4"
  }
 },
 "nbformat": 4,
 "nbformat_minor": 2
}
